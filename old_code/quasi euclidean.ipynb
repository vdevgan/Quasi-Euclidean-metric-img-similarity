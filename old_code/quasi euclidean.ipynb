{
 "cells": [
  {
   "cell_type": "code",
   "execution_count": 104,
   "metadata": {
    "collapsed": true
   },
   "outputs": [],
   "source": [
    "import sys\n",
    "import numpy as np\n",
    "\n",
    "from scipy.misc import imread\n",
    "from scipy import sum\n",
    "from math import *"
   ]
  },
  {
   "cell_type": "code",
   "execution_count": 105,
   "metadata": {
    "collapsed": true
   },
   "outputs": [],
   "source": [
    "def main():\n",
    "    file1, file2 = sys.argv[1:1+2]\n",
    "    # read images as 2D arrays (convert to grayscale for simplicity)\n",
    "    img1 = to_grayscale(imread(\"D:/Quasi  pics/donald1.jpg\").astype(float))\n",
    "    img2 = to_grayscale(imread(\"D:/Quasi  pics/donald2.jpg\").astype(float))\n",
    "    # compare\n",
    "    summ, manhattan = compare_images(img1, img2)\n",
    "    similarity1 = 1 - (summ/367200)\n",
    "    similarity2 = 1 - (manhattan/63719894)\n",
    "    print (\"Quasi Euclidean norm: \",similarity1)\n",
    "    print (\"Manhattan norm: \",similarity2)\n"
   ]
  },
  {
   "cell_type": "code",
   "execution_count": 106,
   "metadata": {
    "collapsed": true
   },
   "outputs": [],
   "source": [
    "def to_grayscale(arr):\n",
    "    \"If arr is a color image (3D array), convert it to grayscale (2D array).\"\n",
    "    if len(arr.shape) == 3:\n",
    "        return average(arr, -1)  # average over the last axis (color channels)\n",
    "    else:\n",
    "        return arr"
   ]
  },
  {
   "cell_type": "code",
   "execution_count": 107,
   "metadata": {
    "collapsed": true
   },
   "outputs": [],
   "source": [
    "def compare_images(img1, img2):\n",
    "    xmax = img1.shape[0]\n",
    "    ymax = img1.shape[1] #img1 and img2 of same shape and size\n",
    "    scale = (90/255)\n",
    "    theta1 = scale*img1\n",
    "    theta2 = scale*img2\n",
    "    img1_x = []\n",
    "    img1_y = []\n",
    "    img2_x = []\n",
    "    img2_y = []\n",
    "    summation = 0.0\n",
    "    qe_norm = []\n",
    "    for i in range(xmax):\n",
    "        for j in range(ymax):\n",
    "            img1_x.append(img1[i][j]*cos(radians(theta1[i][j])))\n",
    "            img1_y.append(img1[i][j]*sin(radians(theta1[i][j])))\n",
    "            img2_x.append(img2[i][j]*cos(radians(theta2[i][j])))\n",
    "            img2_y.append(img2[i][j]*sin(radians(theta2[i][j])))\n",
    "    #calculate the difference\n",
    "    diff = img1 - img2  # elementwise for scipy arrays\n",
    "    for i in range(xmax):\n",
    "            if((fabs(img1_x[i] - img2_x[i]) >= fabs(img1_y[i] - img2_y[i]))):\n",
    "                qe_norm.append([fabs(img1_x[i] - img2_x[i]) + ((sqrt(2) - 1)*fabs(img1_y[i] - img2_y[i]))])  #Quasi Euclidean formaula \n",
    "                \n",
    "            else:\n",
    "                qe_norm.append([fabs(img1_y[i] - img2_y[i]) + ((sqrt(2) - 1)*fabs(img1_x[i] - img2_x[i]))])    \n",
    "                \n",
    "    m_norm = sum(abs(diff))  # Manhattan norm\n",
    "    summation = sum(qe_norm)\n",
    "    return (summation,m_norm)\n",
    "\n"
   ]
  },
  {
   "cell_type": "code",
   "execution_count": 108,
   "metadata": {
    "scrolled": true
   },
   "outputs": [
    {
     "name": "stdout",
     "output_type": "stream",
     "text": [
      "Quasi Euclidean norm:  0.93173537733\n",
      "Manhattan norm:  0.545321941894\n"
     ]
    }
   ],
   "source": [
    "if __name__ == \"__main__\":\n",
    "    main()"
   ]
  }
 ],
 "metadata": {
  "kernelspec": {
   "display_name": "Python 3",
   "language": "python",
   "name": "python3"
  },
  "language_info": {
   "codemirror_mode": {
    "name": "ipython",
    "version": 3
   },
   "file_extension": ".py",
   "mimetype": "text/x-python",
   "name": "python",
   "nbconvert_exporter": "python",
   "pygments_lexer": "ipython3",
   "version": "3.6.1"
  }
 },
 "nbformat": 4,
 "nbformat_minor": 2
}
